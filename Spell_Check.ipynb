{
  "nbformat": 4,
  "nbformat_minor": 0,
  "metadata": {
    "colab": {
      "provenance": []
    },
    "kernelspec": {
      "name": "python3",
      "display_name": "Python 3"
    },
    "language_info": {
      "name": "python"
    }
  },
  "cells": [
    {
      "cell_type": "code",
      "execution_count": 1,
      "metadata": {
        "colab": {
          "base_uri": "https://localhost:8080/"
        },
        "id": "QW3P12W1VTwX",
        "outputId": "a736eb95-9ca4-451b-f0d1-16e747e33d76"
      },
      "outputs": [
        {
          "output_type": "stream",
          "name": "stdout",
          "text": [
            "Collecting python-Levenshtein\n",
            "  Downloading python_Levenshtein-0.26.1-py3-none-any.whl.metadata (3.7 kB)\n",
            "Collecting Levenshtein==0.26.1 (from python-Levenshtein)\n",
            "  Downloading levenshtein-0.26.1-cp310-cp310-manylinux_2_17_x86_64.manylinux2014_x86_64.whl.metadata (3.2 kB)\n",
            "Collecting rapidfuzz<4.0.0,>=3.9.0 (from Levenshtein==0.26.1->python-Levenshtein)\n",
            "  Downloading rapidfuzz-3.11.0-cp310-cp310-manylinux_2_17_x86_64.manylinux2014_x86_64.whl.metadata (11 kB)\n",
            "Downloading python_Levenshtein-0.26.1-py3-none-any.whl (9.4 kB)\n",
            "Downloading levenshtein-0.26.1-cp310-cp310-manylinux_2_17_x86_64.manylinux2014_x86_64.whl (162 kB)\n",
            "\u001b[2K   \u001b[90m━━━━━━━━━━━━━━━━━━━━━━━━━━━━━━━━━━━━━━━━\u001b[0m \u001b[32m162.6/162.6 kB\u001b[0m \u001b[31m3.0 MB/s\u001b[0m eta \u001b[36m0:00:00\u001b[0m\n",
            "\u001b[?25hDownloading rapidfuzz-3.11.0-cp310-cp310-manylinux_2_17_x86_64.manylinux2014_x86_64.whl (3.1 MB)\n",
            "\u001b[2K   \u001b[90m━━━━━━━━━━━━━━━━━━━━━━━━━━━━━━━━━━━━━━━━\u001b[0m \u001b[32m3.1/3.1 MB\u001b[0m \u001b[31m18.8 MB/s\u001b[0m eta \u001b[36m0:00:00\u001b[0m\n",
            "\u001b[?25hInstalling collected packages: rapidfuzz, Levenshtein, python-Levenshtein\n",
            "Successfully installed Levenshtein-0.26.1 python-Levenshtein-0.26.1 rapidfuzz-3.11.0\n"
          ]
        }
      ],
      "source": [
        "!pip install python-Levenshtein"
      ]
    },
    {
      "cell_type": "code",
      "source": [
        "from google.colab import drive\n",
        "import pandas as pd\n",
        "\n",
        "# Mount Google Drive\n",
        "drive.mount('/content/drive')"
      ],
      "metadata": {
        "colab": {
          "base_uri": "https://localhost:8080/"
        },
        "id": "ZqEEkahqVWRi",
        "outputId": "dbc906bd-a06b-4131-b77b-f83545a57def"
      },
      "execution_count": 2,
      "outputs": [
        {
          "output_type": "stream",
          "name": "stdout",
          "text": [
            "Mounted at /content/drive\n"
          ]
        }
      ]
    },
    {
      "cell_type": "code",
      "source": [
        "import re\n",
        "from typing import List, Tuple\n",
        "from Levenshtein import distance as edit_distance\n",
        "from google.colab import drive\n",
        "\n",
        "class SinhalaSpellChecker:\n",
        "    def __init__(self, dictionary_path: str):  # Changed _init_ to __init__\n",
        "        self.dictionary = self._load_dictionary(dictionary_path)\n",
        "\n",
        "    def _load_dictionary(self, path: str) -> set:\n",
        "        try:\n",
        "            with open(path, 'r', encoding='utf-8') as f:\n",
        "                return set(word.strip() for word in f if word.strip())\n",
        "        except FileNotFoundError:\n",
        "            print(f\"Error: Dictionary file '{path}' not found.\")\n",
        "            return set()\n",
        "\n",
        "    def suggest_corrections(self, word: str, max_suggestions: int = 5) -> List[Tuple[str, float]]:\n",
        "        if not self.dictionary:\n",
        "            print(\"Error: Dictionary is empty. Please load a valid dictionary.\")\n",
        "            return []\n",
        "\n",
        "        if word in self.dictionary:\n",
        "            return [(word, 1.0)]\n",
        "\n",
        "        suggestions = []\n",
        "        for dict_word in self.dictionary:\n",
        "            dist = edit_distance(word, dict_word)\n",
        "            similarity = 1 - (dist / max(len(word), len(dict_word)))\n",
        "            if similarity > 0.6:\n",
        "                suggestions.append((dict_word, similarity))\n",
        "\n",
        "        return sorted(suggestions, key=lambda x: x[1], reverse=True)[:max_suggestions]\n",
        "\n",
        "    def correct_sentence(self, sentence: str) -> str:\n",
        "        corrected_words = []\n",
        "        words = sentence.split()\n",
        "        for word in words:\n",
        "            # Skip non-Sinhala words or symbols\n",
        "            if not re.match(r\"^[\\u0D80-\\u0DFF]+$\", word):\n",
        "                corrected_words.append(word)\n",
        "                continue\n",
        "\n",
        "            if word in self.dictionary:\n",
        "                corrected_words.append(word)\n",
        "            else:\n",
        "                suggestions = self.suggest_corrections(word)\n",
        "                if suggestions:\n",
        "                    best_suggestion, _ = suggestions[0]\n",
        "                    corrected_words.append(best_suggestion)\n",
        "                else:\n",
        "                    corrected_words.append(word)  # Keep the original if no suggestions\n",
        "        return ' '.join(corrected_words)\n",
        "\n",
        "\n",
        "# Path to the dictionary file\n",
        "dictionary_path = '/content/drive/MyDrive/extended_sinhala_dictionary.txt'\n",
        "checker = SinhalaSpellChecker(dictionary_path)\n",
        "\n",
        "while True:\n",
        "    user_input = input(\"Enter a Sinhala sentence (or type 'exit' to quit): \").strip()\n",
        "\n",
        "    if user_input.lower() == \"exit\":\n",
        "        print(\"Exiting the Sinhala Spell Checker. Goodbye!\")\n",
        "        break\n",
        "\n",
        "    corrected_sentence = checker.correct_sentence(user_input)\n",
        "    print(f\"Corrected Sentence: {corrected_sentence}\")\n"
      ],
      "metadata": {
        "colab": {
          "base_uri": "https://localhost:8080/"
        },
        "id": "Yf0pi8KkVcbE",
        "outputId": "8d3abc99-efac-4c42-9543-44bd6bb55049"
      },
      "execution_count": null,
      "outputs": [
        {
          "metadata": {
            "tags": null
          },
          "name": "stdout",
          "output_type": "stream",
          "text": [
            "Corrected Sentence: ඔහු ඉස්සරහා කෝටියක් ගියේය\n",
            "Corrected Sentence: ඔහු ඉස්සරහා කුටියේ ගියේය\n",
            "Corrected Sentence: අග්නදිග දූපතේ අක්කර වැඩිදියුණු කළ\n",
            "Corrected Sentence: අග්නදිග දූපතේ අක්කර වැඩිදියුණු කළා\n",
            "Corrected Sentence: ඔහුගේ අංගය අඩ පමණක් තිබුණි\n",
            "Corrected Sentence: අක්කා අගනගරය නැරඹීමේ සතුටක් වූවා\n",
            "Corrected Sentence: අක්කා අගනගරය නැරඹීමේ සතුටක් වූවා\n",
            "Corrected Sentence: අක්කා අගනගරය නැරඹීමේ සතුටක් වූවා\n",
            "Corrected Sentence: අක්කා අගනගරය නැරඹීමේ සතුටක් වූවා\n",
            "Corrected Sentence: අනුරාධපුර අද විශේෂ ප්‍රධන දිනක්\n"
          ]
        }
      ]
    }
  ]
}